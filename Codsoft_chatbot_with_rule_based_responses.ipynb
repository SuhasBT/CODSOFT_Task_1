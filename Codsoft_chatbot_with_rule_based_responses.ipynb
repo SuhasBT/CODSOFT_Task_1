{
  "nbformat": 4,
  "nbformat_minor": 0,
  "metadata": {
    "colab": {
      "provenance": [],
      "authorship_tag": "ABX9TyN5Fxmt4rBbo5UuwHN2zur9",
      "include_colab_link": true
    },
    "kernelspec": {
      "name": "python3",
      "display_name": "Python 3"
    },
    "language_info": {
      "name": "python"
    }
  },
  "cells": [
    {
      "cell_type": "markdown",
      "metadata": {
        "id": "view-in-github",
        "colab_type": "text"
      },
      "source": [
        "<a href=\"https://colab.research.google.com/github/SuhasBT/CODSOFT_Task_1/blob/main/Codsoft_chatbot_with_rule_based_responses.ipynb\" target=\"_parent\"><img src=\"https://colab.research.google.com/assets/colab-badge.svg\" alt=\"Open In Colab\"/></a>"
      ]
    },
    {
      "cell_type": "markdown",
      "source": [
        "Movie recommendation system using python"
      ],
      "metadata": {
        "id": "IDdHRGwvSqeb"
      }
    },
    {
      "cell_type": "code",
      "source": [
        "import random\n",
        "\n",
        "#predefined responses\n",
        "responses = {\n",
        "    \"hello\": [\"Hello!\", \"Hi there!\", \"Hey! How can I assist you today?\"],\n",
        "    \"how are you\": [\"I'm just a chatbot, but I'm here to help!\", \"I'm functioning well, thank you! How can I assist you?\"],\n",
        "    \"bye\": [\"Goodbye!\", \"See you later!\", \"Have a great day!\"],\n",
        "    \"what's your name\": [\"I'm just a chatbot, so I don't have a name.\", \"You can call me ChatGPT.\"],\n",
        "    \"help\": [\"I can help you with general information. Just ask me a question!\", \"How can I assist you today?\"],\n",
        "    \"weather\": [\"I'm sorry, I don't have access to real-time weather information.\", \"You can check the weather using a weather app or website.\"],\n",
        "    \"thank you\": [\"You're welcome!\", \"No problem, happy to help!\"],\n",
        "}\n",
        "\n",
        "# Responses based on user input\n",
        "def get_response(user_input):\n",
        "\n",
        "    user_input = user_input.lower()\n",
        "\n",
        "\n",
        "    for key in responses:\n",
        "        if key in user_input:\n",
        "            return random.choice(responses[key])\n",
        "\n",
        "\n",
        "    return \"I'm not sure how to respond to that.\"\n",
        "\n",
        "\n",
        "print(\"Chatbot: Hi! Type 'exit' to end the conversation.\")\n",
        "while True:\n",
        "    user_input = input(\"You: \")\n",
        "    if user_input.lower() == \"exit\":\n",
        "        print(\"Chatbot: Goodbye!\")\n",
        "        break\n",
        "    response = get_response(user_input)\n",
        "    print(\"Chatbot:\", response)\n"
      ],
      "metadata": {
        "colab": {
          "base_uri": "https://localhost:8080/"
        },
        "id": "DUM_DCKfDfRc",
        "outputId": "be7ce5e5-cb61-4afb-9edd-ecd61a99736c"
      },
      "execution_count": null,
      "outputs": [
        {
          "output_type": "stream",
          "name": "stdout",
          "text": [
            "Chatbot: Hi! Type 'exit' to end the conversation.\n"
          ]
        }
      ]
    }
  ]
}